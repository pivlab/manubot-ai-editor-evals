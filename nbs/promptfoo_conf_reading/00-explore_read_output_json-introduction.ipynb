{
 "cells": [
  {
   "cell_type": "markdown",
   "id": "1299fb8c-908d-4433-93d8-6fc2882a14c1",
   "metadata": {},
   "source": [
    "# Modules"
   ]
  },
  {
   "cell_type": "code",
   "execution_count": 1,
   "id": "272abfa6-0d42-4277-8b51-a570a32a14f5",
   "metadata": {},
   "outputs": [],
   "source": [
    "import json\n",
    "from io import StringIO\n",
    "import pandas as pd\n",
    "from proj.conf import abstract, introduction"
   ]
  },
  {
   "cell_type": "markdown",
   "id": "e7b09b20-2f61-4a60-8ad7-c1ea559298fa",
   "metadata": {},
   "source": [
    "# Explore `latest.json`"
   ]
  },
  {
   "cell_type": "code",
   "execution_count": 2,
   "id": "ddd14f64-0d86-452f-abe1-27f10eff2e7c",
   "metadata": {},
   "outputs": [
    {
     "data": {
      "text/plain": [
       "PosixPath('/home/miltondp/projects/others/manubot/manubot-ai-editor-evals/introduction/cases')"
      ]
     },
     "execution_count": 2,
     "metadata": {},
     "output_type": "execute_result"
    }
   ],
   "source": [
    "introduction.CASES"
   ]
  },
  {
   "cell_type": "code",
   "execution_count": 3,
   "id": "dd1234b8-6fba-495e-acdf-b908c2d8dcec",
   "metadata": {},
   "outputs": [],
   "source": [
    "INPUT_FILE = introduction.CASES / \"phenoplier\" / \"outputs\" / \"mixtral-8x22b-instruct-v0.1-q5_1\" / \"output\" / \"latest.json\""
   ]
  },
  {
   "cell_type": "code",
   "execution_count": 4,
   "id": "9a8bb579-5ead-4343-8826-a15bdeb125a8",
   "metadata": {},
   "outputs": [],
   "source": [
    "data = pd.read_json(INPUT_FILE)"
   ]
  },
  {
   "cell_type": "code",
   "execution_count": 5,
   "id": "08e989ac-4621-45a8-84d0-336ae9511b5b",
   "metadata": {},
   "outputs": [
    {
     "data": {
      "text/plain": [
       "(10, 3)"
      ]
     },
     "execution_count": 5,
     "metadata": {},
     "output_type": "execute_result"
    }
   ],
   "source": [
    "data.shape"
   ]
  },
  {
   "cell_type": "code",
   "execution_count": 6,
   "id": "35b6e4be-21f9-4b2e-a41a-d23f353cd58d",
   "metadata": {},
   "outputs": [
    {
     "data": {
      "text/html": [
       "<div>\n",
       "<style scoped>\n",
       "    .dataframe tbody tr th:only-of-type {\n",
       "        vertical-align: middle;\n",
       "    }\n",
       "\n",
       "    .dataframe tbody tr th {\n",
       "        vertical-align: top;\n",
       "    }\n",
       "\n",
       "    .dataframe thead th {\n",
       "        text-align: right;\n",
       "    }\n",
       "</style>\n",
       "<table border=\"1\" class=\"dataframe\">\n",
       "  <thead>\n",
       "    <tr style=\"text-align: right;\">\n",
       "      <th></th>\n",
       "      <th>results</th>\n",
       "      <th>config</th>\n",
       "      <th>shareableUrl</th>\n",
       "    </tr>\n",
       "  </thead>\n",
       "  <tbody>\n",
       "    <tr>\n",
       "      <th>version</th>\n",
       "      <td>2</td>\n",
       "      <td>NaN</td>\n",
       "      <td>NaN</td>\n",
       "    </tr>\n",
       "    <tr>\n",
       "      <th>results</th>\n",
       "      <td>[{'provider': {'id': 'exec:python /home/milton...</td>\n",
       "      <td>NaN</td>\n",
       "      <td>NaN</td>\n",
       "    </tr>\n",
       "    <tr>\n",
       "      <th>stats</th>\n",
       "      <td>{'successes': 43, 'failures': 17, 'tokenUsage'...</td>\n",
       "      <td>NaN</td>\n",
       "      <td>NaN</td>\n",
       "    </tr>\n",
       "    <tr>\n",
       "      <th>table</th>\n",
       "      <td>{'head': {'prompts': [{'raw': 'You are a scien...</td>\n",
       "      <td>NaN</td>\n",
       "      <td>NaN</td>\n",
       "    </tr>\n",
       "    <tr>\n",
       "      <th>prompts</th>\n",
       "      <td>NaN</td>\n",
       "      <td>[file://../../prompts/baseline.txt, file://../...</td>\n",
       "      <td>NaN</td>\n",
       "    </tr>\n",
       "    <tr>\n",
       "      <th>providers</th>\n",
       "      <td>NaN</td>\n",
       "      <td>[exec:python /home/miltondp/projects/others/ma...</td>\n",
       "      <td>NaN</td>\n",
       "    </tr>\n",
       "    <tr>\n",
       "      <th>tests</th>\n",
       "      <td>NaN</td>\n",
       "      <td>[{'vars': {'test_description': 'Has no spellin...</td>\n",
       "      <td>NaN</td>\n",
       "    </tr>\n",
       "    <tr>\n",
       "      <th>sharing</th>\n",
       "      <td>NaN</td>\n",
       "      <td>True</td>\n",
       "      <td>NaN</td>\n",
       "    </tr>\n",
       "    <tr>\n",
       "      <th>defaultTest</th>\n",
       "      <td>NaN</td>\n",
       "      <td>{'assert': [{'type': 'python', 'value': 'descr...</td>\n",
       "      <td>NaN</td>\n",
       "    </tr>\n",
       "    <tr>\n",
       "      <th>outputPath</th>\n",
       "      <td>NaN</td>\n",
       "      <td>[outputs/mixtral-8x22b-instruct-v0.1-q5_1/outp...</td>\n",
       "      <td>NaN</td>\n",
       "    </tr>\n",
       "  </tbody>\n",
       "</table>\n",
       "</div>"
      ],
      "text/plain": [
       "                                                       results  \\\n",
       "version                                                      2   \n",
       "results      [{'provider': {'id': 'exec:python /home/milton...   \n",
       "stats        {'successes': 43, 'failures': 17, 'tokenUsage'...   \n",
       "table        {'head': {'prompts': [{'raw': 'You are a scien...   \n",
       "prompts                                                    NaN   \n",
       "providers                                                  NaN   \n",
       "tests                                                      NaN   \n",
       "sharing                                                    NaN   \n",
       "defaultTest                                                NaN   \n",
       "outputPath                                                 NaN   \n",
       "\n",
       "                                                        config  shareableUrl  \n",
       "version                                                    NaN           NaN  \n",
       "results                                                    NaN           NaN  \n",
       "stats                                                      NaN           NaN  \n",
       "table                                                      NaN           NaN  \n",
       "prompts      [file://../../prompts/baseline.txt, file://../...           NaN  \n",
       "providers    [exec:python /home/miltondp/projects/others/ma...           NaN  \n",
       "tests        [{'vars': {'test_description': 'Has no spellin...           NaN  \n",
       "sharing                                                   True           NaN  \n",
       "defaultTest  {'assert': [{'type': 'python', 'value': 'descr...           NaN  \n",
       "outputPath   [outputs/mixtral-8x22b-instruct-v0.1-q5_1/outp...           NaN  "
      ]
     },
     "execution_count": 6,
     "metadata": {},
     "output_type": "execute_result"
    }
   ],
   "source": [
    "data"
   ]
  },
  {
   "cell_type": "code",
   "execution_count": 7,
   "id": "1fcb3bb9-ac76-4169-a62f-c0130754c4bd",
   "metadata": {},
   "outputs": [],
   "source": [
    "with StringIO(json.dumps(data.iloc[1, 0])) as f:\n",
    "    r = pd.read_json(f)"
   ]
  },
  {
   "cell_type": "code",
   "execution_count": 8,
   "id": "4bf58226-1fdb-4fb9-a210-0faf0dbd566c",
   "metadata": {},
   "outputs": [
    {
     "data": {
      "text/plain": [
       "(60, 10)"
      ]
     },
     "execution_count": 8,
     "metadata": {},
     "output_type": "execute_result"
    }
   ],
   "source": [
    "r.shape"
   ]
  },
  {
   "cell_type": "code",
   "execution_count": 9,
   "id": "3fec8f33-2b4f-45ff-a554-e5da41a5adb4",
   "metadata": {},
   "outputs": [
    {
     "data": {
      "text/html": [
       "<div>\n",
       "<style scoped>\n",
       "    .dataframe tbody tr th:only-of-type {\n",
       "        vertical-align: middle;\n",
       "    }\n",
       "\n",
       "    .dataframe tbody tr th {\n",
       "        vertical-align: top;\n",
       "    }\n",
       "\n",
       "    .dataframe thead th {\n",
       "        text-align: right;\n",
       "    }\n",
       "</style>\n",
       "<table border=\"1\" class=\"dataframe\">\n",
       "  <thead>\n",
       "    <tr style=\"text-align: right;\">\n",
       "      <th></th>\n",
       "      <th>provider</th>\n",
       "      <th>prompt</th>\n",
       "      <th>vars</th>\n",
       "      <th>response</th>\n",
       "      <th>success</th>\n",
       "      <th>score</th>\n",
       "      <th>namedScores</th>\n",
       "      <th>latencyMs</th>\n",
       "      <th>gradingResult</th>\n",
       "      <th>error</th>\n",
       "    </tr>\n",
       "  </thead>\n",
       "  <tbody>\n",
       "    <tr>\n",
       "      <th>0</th>\n",
       "      <td>{'id': 'exec:python /home/miltondp/projects/ot...</td>\n",
       "      <td>{'raw': 'You are a scientist with copy-editing...</td>\n",
       "      <td>{'test_description': 'Has no spelling errors',...</td>\n",
       "      <td>{'output': 'Genes interact in context-specific...</td>\n",
       "      <td>True</td>\n",
       "      <td>0.500000</td>\n",
       "      <td>{}</td>\n",
       "      <td>460368</td>\n",
       "      <td>{'pass': True, 'score': 0.5, 'namedScores': {}...</td>\n",
       "      <td>NaN</td>\n",
       "    </tr>\n",
       "    <tr>\n",
       "      <th>1</th>\n",
       "      <td>{'id': 'exec:python /home/miltondp/projects/ot...</td>\n",
       "      <td>{'raw': 'You are a scientist with copy-editing...</td>\n",
       "      <td>{'test_description': 'Has no spelling errors',...</td>\n",
       "      <td>{'output': 'Genes collaborate in context-speci...</td>\n",
       "      <td>True</td>\n",
       "      <td>0.500000</td>\n",
       "      <td>{}</td>\n",
       "      <td>534835</td>\n",
       "      <td>{'pass': True, 'score': 0.5, 'namedScores': {}...</td>\n",
       "      <td>NaN</td>\n",
       "    </tr>\n",
       "    <tr>\n",
       "      <th>2</th>\n",
       "      <td>{'id': 'exec:python /home/miltondp/projects/ot...</td>\n",
       "      <td>{'raw': 'You are a scientist with copy-editing...</td>\n",
       "      <td>{'test_description': 'Has no spelling errors',...</td>\n",
       "      <td>{'output': 'Genes interact within specific con...</td>\n",
       "      <td>False</td>\n",
       "      <td>0.428571</td>\n",
       "      <td>{}</td>\n",
       "      <td>245111</td>\n",
       "      <td>{'pass': False, 'score': 0.42857142857142805, ...</td>\n",
       "      <td>Failed</td>\n",
       "    </tr>\n",
       "    <tr>\n",
       "      <th>3</th>\n",
       "      <td>{'id': 'exec:python /home/miltondp/projects/ot...</td>\n",
       "      <td>{'raw': 'You are a scientist with copy-editing...</td>\n",
       "      <td>{'test_description': 'Has no spelling errors',...</td>\n",
       "      <td>{'output': 'Genes collaborate in context-speci...</td>\n",
       "      <td>True</td>\n",
       "      <td>0.500000</td>\n",
       "      <td>{}</td>\n",
       "      <td>445017</td>\n",
       "      <td>{'pass': True, 'score': 0.5, 'namedScores': {}...</td>\n",
       "      <td>NaN</td>\n",
       "    </tr>\n",
       "    <tr>\n",
       "      <th>4</th>\n",
       "      <td>{'id': 'exec:python /home/miltondp/projects/ot...</td>\n",
       "      <td>{'raw': 'You are a scientist with copy-editing...</td>\n",
       "      <td>{'test_description': 'Has no spelling errors',...</td>\n",
       "      <td>{'output': 'Genes collaborate in context-speci...</td>\n",
       "      <td>True</td>\n",
       "      <td>0.500000</td>\n",
       "      <td>{}</td>\n",
       "      <td>497155</td>\n",
       "      <td>{'pass': True, 'score': 0.5, 'namedScores': {}...</td>\n",
       "      <td>NaN</td>\n",
       "    </tr>\n",
       "  </tbody>\n",
       "</table>\n",
       "</div>"
      ],
      "text/plain": [
       "                                            provider  \\\n",
       "0  {'id': 'exec:python /home/miltondp/projects/ot...   \n",
       "1  {'id': 'exec:python /home/miltondp/projects/ot...   \n",
       "2  {'id': 'exec:python /home/miltondp/projects/ot...   \n",
       "3  {'id': 'exec:python /home/miltondp/projects/ot...   \n",
       "4  {'id': 'exec:python /home/miltondp/projects/ot...   \n",
       "\n",
       "                                              prompt  \\\n",
       "0  {'raw': 'You are a scientist with copy-editing...   \n",
       "1  {'raw': 'You are a scientist with copy-editing...   \n",
       "2  {'raw': 'You are a scientist with copy-editing...   \n",
       "3  {'raw': 'You are a scientist with copy-editing...   \n",
       "4  {'raw': 'You are a scientist with copy-editing...   \n",
       "\n",
       "                                                vars  \\\n",
       "0  {'test_description': 'Has no spelling errors',...   \n",
       "1  {'test_description': 'Has no spelling errors',...   \n",
       "2  {'test_description': 'Has no spelling errors',...   \n",
       "3  {'test_description': 'Has no spelling errors',...   \n",
       "4  {'test_description': 'Has no spelling errors',...   \n",
       "\n",
       "                                            response  success     score  \\\n",
       "0  {'output': 'Genes interact in context-specific...     True  0.500000   \n",
       "1  {'output': 'Genes collaborate in context-speci...     True  0.500000   \n",
       "2  {'output': 'Genes interact within specific con...    False  0.428571   \n",
       "3  {'output': 'Genes collaborate in context-speci...     True  0.500000   \n",
       "4  {'output': 'Genes collaborate in context-speci...     True  0.500000   \n",
       "\n",
       "  namedScores  latencyMs                                      gradingResult  \\\n",
       "0          {}     460368  {'pass': True, 'score': 0.5, 'namedScores': {}...   \n",
       "1          {}     534835  {'pass': True, 'score': 0.5, 'namedScores': {}...   \n",
       "2          {}     245111  {'pass': False, 'score': 0.42857142857142805, ...   \n",
       "3          {}     445017  {'pass': True, 'score': 0.5, 'namedScores': {}...   \n",
       "4          {}     497155  {'pass': True, 'score': 0.5, 'namedScores': {}...   \n",
       "\n",
       "    error  \n",
       "0     NaN  \n",
       "1     NaN  \n",
       "2  Failed  \n",
       "3     NaN  \n",
       "4     NaN  "
      ]
     },
     "execution_count": 9,
     "metadata": {},
     "output_type": "execute_result"
    }
   ],
   "source": [
    "r.head()"
   ]
  },
  {
   "cell_type": "code",
   "execution_count": 10,
   "id": "d040c698-decb-428b-b86a-bd2025c13430",
   "metadata": {},
   "outputs": [
    {
     "data": {
      "text/plain": [
       "provider         {'id': 'exec:python /home/miltondp/projects/ot...\n",
       "prompt           {'raw': 'You are a scientist with copy-editing...\n",
       "vars             {'test_description': 'Has no spelling errors',...\n",
       "response         {'output': 'Genes interact in context-specific...\n",
       "success                                                       True\n",
       "score                                                          0.5\n",
       "namedScores                                                     {}\n",
       "latencyMs                                                   460368\n",
       "gradingResult    {'pass': True, 'score': 0.5, 'namedScores': {}...\n",
       "error                                                          NaN\n",
       "Name: 0, dtype: object"
      ]
     },
     "execution_count": 10,
     "metadata": {},
     "output_type": "execute_result"
    }
   ],
   "source": [
    "r.loc[0]"
   ]
  },
  {
   "cell_type": "code",
   "execution_count": 11,
   "id": "8b505592-87b1-44ab-902d-43bd863a063c",
   "metadata": {},
   "outputs": [
    {
     "data": {
      "text/plain": [
       "{'id': 'exec:python /home/miltondp/projects/others/manubot/manubot-ai-editor-evals/src/llm.py --update-cache --model ollama=mixtral-8x22b-instruct-v0.1-q5_1'}"
      ]
     },
     "execution_count": 11,
     "metadata": {},
     "output_type": "execute_result"
    }
   ],
   "source": [
    "r.loc[0, \"provider\"]"
   ]
  },
  {
   "cell_type": "code",
   "execution_count": 12,
   "id": "2eb47551-c58c-4e17-989c-a21171e8272c",
   "metadata": {},
   "outputs": [
    {
     "data": {
      "text/plain": [
       "{'raw': 'You are a scientist with copy-editing skills tasked with refining the text of a scientific manuscript. Your goal is to revise the following paragraph from the Introduction section.\\n\\nInput paragraph: Genes work together in context-specific networks to karry out different functions [@pmid:19104045; @doi:10.1038/ng.3259]. Variations in these genes can change their functional role and, at a higher level, affect disease-relevant biological processes [@doi:10.1038/s41467-018-06022-6]. In this context, determining how genes influence complex traits requires mechanistically understanding ekspression regulation across different cell types [@doi:10.1126/science.aaz1776; @doi:10.1038/s41586-020-2559-3; @doi:10.1038/s41576-019-0200-9], which in turn should lead to improved treatments [@doi:10.1038/ng.3314; @doi:10.1371/journal.pgen.1008489]. Previous studies has described different regulatory DNA elements [@doi:10.1038/nature11247; @doi:10.1038/nature14248; @doi:10.1038/nature12787; @doi:10.1038/s41586-020-03145-z; @doi:10.1038/s41586-020-2559-3] including genetic effects on gene expression across different tissues [@doi:10.1126/science.aaz1776]. Integrating functional genomics data and GWAS data [@doi:10.1038/s41588-018-0081-4; @doi:10.1016/j.ajhg.2018.04.002; @doi:10.1038/s41588-018-0081-4; @doi:10.1038/ncomms6890] has improoved the identification of these transcriptional mechanisms that, when dysregulated, commonly result in tissue- and cell lineage-specific pathology [@pmid:20624743; @pmid:14707169; @doi:10.1073/pnas.0810772105].\\n\\nRevised paragraph:\\n',\n",
       " 'display': '/home/miltondp/projects/others/manubot/manubot-ai-editor-evals/introduction/prompts/baseline.txt'}"
      ]
     },
     "execution_count": 12,
     "metadata": {},
     "output_type": "execute_result"
    }
   ],
   "source": [
    "r.loc[0, \"prompt\"]"
   ]
  },
  {
   "cell_type": "code",
   "execution_count": 13,
   "id": "e832cc61-5b53-4178-aee1-806fede194c8",
   "metadata": {},
   "outputs": [
    {
     "data": {
      "text/plain": [
       "{'test_description': 'Has no spelling errors',\n",
       " 'title': 'Projecting genetic associations through gene expression patterns highlights disease etiology and drug mechanisms',\n",
       " 'keywords': 'genetic studies, functional genomics, gene co-expression, therapeutic targets, drug repurposing, clustering of complex traits',\n",
       " 'content': 'Genes work together in context-specific networks to karry out different functions [@pmid:19104045; @doi:10.1038/ng.3259]. Variations in these genes can change their functional role and, at a higher level, affect disease-relevant biological processes [@doi:10.1038/s41467-018-06022-6]. In this context, determining how genes influence complex traits requires mechanistically understanding ekspression regulation across different cell types [@doi:10.1126/science.aaz1776; @doi:10.1038/s41586-020-2559-3; @doi:10.1038/s41576-019-0200-9], which in turn should lead to improved treatments [@doi:10.1038/ng.3314; @doi:10.1371/journal.pgen.1008489]. Previous studies has described different regulatory DNA elements [@doi:10.1038/nature11247; @doi:10.1038/nature14248; @doi:10.1038/nature12787; @doi:10.1038/s41586-020-03145-z; @doi:10.1038/s41586-020-2559-3] including genetic effects on gene expression across different tissues [@doi:10.1126/science.aaz1776]. Integrating functional genomics data and GWAS data [@doi:10.1038/s41588-018-0081-4; @doi:10.1016/j.ajhg.2018.04.002; @doi:10.1038/s41588-018-0081-4; @doi:10.1038/ncomms6890] has improoved the identification of these transcriptional mechanisms that, when dysregulated, commonly result in tissue- and cell lineage-specific pathology [@pmid:20624743; @pmid:14707169; @doi:10.1073/pnas.0810772105].'}"
      ]
     },
     "execution_count": 13,
     "metadata": {},
     "output_type": "execute_result"
    }
   ],
   "source": [
    "r.loc[0, \"vars\"]"
   ]
  },
  {
   "cell_type": "code",
   "execution_count": 14,
   "id": "84ab8f88-ce91-4102-8ac0-49efa920122f",
   "metadata": {},
   "outputs": [
    {
     "data": {
      "text/plain": [
       "{'output': 'Genes interact in context-specific networks to carry out various functions [@pmid:19104045; @doi:10.1038/ng.3259]. Variations in these genes can alter their functional role and, at a higher level, impact disease-relevant biological processes [@doi:10.1038/s41467-018-06022-6]. In this context, understanding how genes influence complex traits requires mechanistically comprehending expression regulation across different cell types [@doi:10.1126/science.aaz1776; @doi:10.1038/s41586-020-2559-3; @doi:10.1038/s41576-019-0200-9], which should ultimately lead to improved treatments [@doi:10.1038/ng.3314; @doi:10.1371/journal.pgen.1008489]. Previous studies have described various regulatory DNA elements [@doi:10.1038/nature11247; @doi:10.1038/natire14248; @doi:10.1038/nature12787; @doi:10.1038/s41586-020-03145-z; @doi:10.1038/s41586-020-2559-3], including genetic effects on gene expression across different tissues [@doi:10.1126/science.aaz1776]. Integrating functional genomics data and GWAS data [@doi:10.1038/s41588-018-0081-4; @doi:10.1016/j.ajhg.2018.04.002; @doi:10.1038/s41588-018-0081-4; @doi:10.1038/ncumm96890] has improved the identification of these transcriptional mechanisms that, when dysregulated, commonly result in tissue- and cell lineage-specific pathology [@pmid:20624743; @pmid:14707169; @doi:10.1073/pnas.0810772105].'}"
      ]
     },
     "execution_count": 14,
     "metadata": {},
     "output_type": "execute_result"
    }
   ],
   "source": [
    "r.loc[0, \"response\"]"
   ]
  },
  {
   "cell_type": "code",
   "execution_count": 15,
   "id": "07a3e11f-f9ae-40e4-a8de-4fbbf7a53756",
   "metadata": {},
   "outputs": [
    {
     "data": {
      "text/plain": [
       "{'pass': True,\n",
       " 'score': 0.5,\n",
       " 'namedScores': {},\n",
       " 'reason': 'All assertions passed',\n",
       " 'tokensUsed': {'total': 0, 'prompt': 0, 'completion': 0},\n",
       " 'componentResults': [{'pass': True,\n",
       "   'score': 0.25,\n",
       "   'reason': 'Passed',\n",
       "   'assertion': {'value': 'Starts with capital letter', 'type': 'Formatting'}},\n",
       "  {'pass': True,\n",
       "   'score': 0.25,\n",
       "   'reason': 'Passed',\n",
       "   'assertion': {'value': 'Ends with a period', 'type': 'Formatting'}},\n",
       "  {'pass': True,\n",
       "   'score': 0.25,\n",
       "   'reason': 'Passed',\n",
       "   'assertion': {'value': 'Is a single paragraph', 'type': 'Formatting'}},\n",
       "  {'pass': True,\n",
       "   'score': 0.25,\n",
       "   'reason': 'Passed',\n",
       "   'assertion': {'value': \"Doesn't include manuscript title\",\n",
       "    'type': 'Formatting'}},\n",
       "  {'pass': True,\n",
       "   'score': 0.25,\n",
       "   'reason': 'Passed',\n",
       "   'assertion': {'value': \"Doesn't reference authors, keywords, introduction, etc\",\n",
       "    'type': 'Formatting'}},\n",
       "  {'pass': True,\n",
       "   'score': 0.25,\n",
       "   'reason': 'Passed',\n",
       "   'assertion': {'value': 'Has roughly the same length as input',\n",
       "    'type': 'Formatting'}},\n",
       "  {'pass': True,\n",
       "   'score': 2,\n",
       "   'reason': 'Passed',\n",
       "   'assertion': {'value': 'Has no spelling errors',\n",
       "    'type': 'Spelling/grammar'}}],\n",
       " 'assertion': None}"
      ]
     },
     "execution_count": 15,
     "metadata": {},
     "output_type": "execute_result"
    }
   ],
   "source": [
    "r.loc[0, \"gradingResult\"]"
   ]
  },
  {
   "cell_type": "code",
   "execution_count": null,
   "id": "e21d5122-da64-4120-8b9e-2952d5a1ea9f",
   "metadata": {},
   "outputs": [],
   "source": []
  }
 ],
 "metadata": {
  "jupytext": {
   "cell_metadata_filter": "all,-execution,-papermill,-trusted",
   "notebook_metadata_filter": "-jupytext.text_representation.jupytext_version"
  },
  "kernelspec": {
   "display_name": "Python 3 (ipykernel)",
   "language": "python",
   "name": "python3"
  },
  "language_info": {
   "codemirror_mode": {
    "name": "ipython",
    "version": 3
   },
   "file_extension": ".py",
   "mimetype": "text/x-python",
   "name": "python",
   "nbconvert_exporter": "python",
   "pygments_lexer": "ipython3",
   "version": "3.12.3"
  }
 },
 "nbformat": 4,
 "nbformat_minor": 5
}
