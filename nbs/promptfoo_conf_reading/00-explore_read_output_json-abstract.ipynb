{
 "cells": [
  {
   "cell_type": "markdown",
   "id": "1299fb8c-908d-4433-93d8-6fc2882a14c1",
   "metadata": {},
   "source": [
    "# Modules"
   ]
  },
  {
   "cell_type": "code",
   "execution_count": 1,
   "id": "272abfa6-0d42-4277-8b51-a570a32a14f5",
   "metadata": {},
   "outputs": [],
   "source": [
    "import json\n",
    "from io import StringIO\n",
    "import pandas as pd\n",
    "from proj.conf import abstract, introduction"
   ]
  },
  {
   "cell_type": "markdown",
   "id": "e7b09b20-2f61-4a60-8ad7-c1ea559298fa",
   "metadata": {},
   "source": [
    "# Explore `latest.json`"
   ]
  },
  {
   "cell_type": "code",
   "execution_count": 2,
   "id": "ddd14f64-0d86-452f-abe1-27f10eff2e7c",
   "metadata": {},
   "outputs": [
    {
     "data": {
      "text/plain": [
       "PosixPath('/home/miltondp/projects/others/manubot/manubot-ai-editor-evals/abstract/cases')"
      ]
     },
     "execution_count": 2,
     "metadata": {},
     "output_type": "execute_result"
    }
   ],
   "source": [
    "abstract.CASES"
   ]
  },
  {
   "cell_type": "code",
   "execution_count": 3,
   "id": "dd1234b8-6fba-495e-acdf-b908c2d8dcec",
   "metadata": {},
   "outputs": [],
   "source": [
    "INPUT_FILE = abstract.CASES / \"phenoplier\" / \"outputs\" / \"mixtral-8x22b-instruct-v0.1-q4_1\" / \"output\" / \"latest.json\""
   ]
  },
  {
   "cell_type": "code",
   "execution_count": 4,
   "id": "9a8bb579-5ead-4343-8826-a15bdeb125a8",
   "metadata": {},
   "outputs": [],
   "source": [
    "data = pd.read_json(INPUT_FILE)"
   ]
  },
  {
   "cell_type": "code",
   "execution_count": 5,
   "id": "08e989ac-4621-45a8-84d0-336ae9511b5b",
   "metadata": {},
   "outputs": [
    {
     "data": {
      "text/plain": [
       "(10, 3)"
      ]
     },
     "execution_count": 5,
     "metadata": {},
     "output_type": "execute_result"
    }
   ],
   "source": [
    "data.shape"
   ]
  },
  {
   "cell_type": "code",
   "execution_count": 6,
   "id": "35b6e4be-21f9-4b2e-a41a-d23f353cd58d",
   "metadata": {},
   "outputs": [
    {
     "data": {
      "text/html": [
       "<div>\n",
       "<style scoped>\n",
       "    .dataframe tbody tr th:only-of-type {\n",
       "        vertical-align: middle;\n",
       "    }\n",
       "\n",
       "    .dataframe tbody tr th {\n",
       "        vertical-align: top;\n",
       "    }\n",
       "\n",
       "    .dataframe thead th {\n",
       "        text-align: right;\n",
       "    }\n",
       "</style>\n",
       "<table border=\"1\" class=\"dataframe\">\n",
       "  <thead>\n",
       "    <tr style=\"text-align: right;\">\n",
       "      <th></th>\n",
       "      <th>results</th>\n",
       "      <th>config</th>\n",
       "      <th>shareableUrl</th>\n",
       "    </tr>\n",
       "  </thead>\n",
       "  <tbody>\n",
       "    <tr>\n",
       "      <th>version</th>\n",
       "      <td>2</td>\n",
       "      <td>NaN</td>\n",
       "      <td>NaN</td>\n",
       "    </tr>\n",
       "    <tr>\n",
       "      <th>results</th>\n",
       "      <td>[{'provider': {'id': 'exec:python /home/milton...</td>\n",
       "      <td>NaN</td>\n",
       "      <td>NaN</td>\n",
       "    </tr>\n",
       "    <tr>\n",
       "      <th>stats</th>\n",
       "      <td>{'successes': 46, 'failures': 14, 'tokenUsage'...</td>\n",
       "      <td>NaN</td>\n",
       "      <td>NaN</td>\n",
       "    </tr>\n",
       "    <tr>\n",
       "      <th>table</th>\n",
       "      <td>{'head': {'prompts': [{'raw': \"You are a scien...</td>\n",
       "      <td>NaN</td>\n",
       "      <td>NaN</td>\n",
       "    </tr>\n",
       "    <tr>\n",
       "      <th>prompts</th>\n",
       "      <td>NaN</td>\n",
       "      <td>[file://../../prompts/baseline.txt, file://../...</td>\n",
       "      <td>NaN</td>\n",
       "    </tr>\n",
       "    <tr>\n",
       "      <th>providers</th>\n",
       "      <td>NaN</td>\n",
       "      <td>[exec:python /home/miltondp/projects/others/ma...</td>\n",
       "      <td>NaN</td>\n",
       "    </tr>\n",
       "    <tr>\n",
       "      <th>tests</th>\n",
       "      <td>NaN</td>\n",
       "      <td>[{'vars': {'test_description': 'Has no spellin...</td>\n",
       "      <td>NaN</td>\n",
       "    </tr>\n",
       "    <tr>\n",
       "      <th>sharing</th>\n",
       "      <td>NaN</td>\n",
       "      <td>True</td>\n",
       "      <td>NaN</td>\n",
       "    </tr>\n",
       "    <tr>\n",
       "      <th>defaultTest</th>\n",
       "      <td>NaN</td>\n",
       "      <td>{'assert': [{'type': 'python', 'value': 'descr...</td>\n",
       "      <td>NaN</td>\n",
       "    </tr>\n",
       "    <tr>\n",
       "      <th>outputPath</th>\n",
       "      <td>NaN</td>\n",
       "      <td>[outputs/mixtral-8x22b-instruct-v0.1-q4_1/outp...</td>\n",
       "      <td>NaN</td>\n",
       "    </tr>\n",
       "  </tbody>\n",
       "</table>\n",
       "</div>"
      ],
      "text/plain": [
       "                                                       results  \\\n",
       "version                                                      2   \n",
       "results      [{'provider': {'id': 'exec:python /home/milton...   \n",
       "stats        {'successes': 46, 'failures': 14, 'tokenUsage'...   \n",
       "table        {'head': {'prompts': [{'raw': \"You are a scien...   \n",
       "prompts                                                    NaN   \n",
       "providers                                                  NaN   \n",
       "tests                                                      NaN   \n",
       "sharing                                                    NaN   \n",
       "defaultTest                                                NaN   \n",
       "outputPath                                                 NaN   \n",
       "\n",
       "                                                        config  shareableUrl  \n",
       "version                                                    NaN           NaN  \n",
       "results                                                    NaN           NaN  \n",
       "stats                                                      NaN           NaN  \n",
       "table                                                      NaN           NaN  \n",
       "prompts      [file://../../prompts/baseline.txt, file://../...           NaN  \n",
       "providers    [exec:python /home/miltondp/projects/others/ma...           NaN  \n",
       "tests        [{'vars': {'test_description': 'Has no spellin...           NaN  \n",
       "sharing                                                   True           NaN  \n",
       "defaultTest  {'assert': [{'type': 'python', 'value': 'descr...           NaN  \n",
       "outputPath   [outputs/mixtral-8x22b-instruct-v0.1-q4_1/outp...           NaN  "
      ]
     },
     "execution_count": 6,
     "metadata": {},
     "output_type": "execute_result"
    }
   ],
   "source": [
    "data"
   ]
  },
  {
   "cell_type": "code",
   "execution_count": 7,
   "id": "1fcb3bb9-ac76-4169-a62f-c0130754c4bd",
   "metadata": {},
   "outputs": [],
   "source": [
    "with StringIO(json.dumps(data.iloc[1, 0])) as f:\n",
    "    r = pd.read_json(f)"
   ]
  },
  {
   "cell_type": "code",
   "execution_count": 8,
   "id": "4bf58226-1fdb-4fb9-a210-0faf0dbd566c",
   "metadata": {},
   "outputs": [
    {
     "data": {
      "text/plain": [
       "(60, 10)"
      ]
     },
     "execution_count": 8,
     "metadata": {},
     "output_type": "execute_result"
    }
   ],
   "source": [
    "r.shape"
   ]
  },
  {
   "cell_type": "code",
   "execution_count": 9,
   "id": "3fec8f33-2b4f-45ff-a554-e5da41a5adb4",
   "metadata": {},
   "outputs": [
    {
     "data": {
      "text/html": [
       "<div>\n",
       "<style scoped>\n",
       "    .dataframe tbody tr th:only-of-type {\n",
       "        vertical-align: middle;\n",
       "    }\n",
       "\n",
       "    .dataframe tbody tr th {\n",
       "        vertical-align: top;\n",
       "    }\n",
       "\n",
       "    .dataframe thead th {\n",
       "        text-align: right;\n",
       "    }\n",
       "</style>\n",
       "<table border=\"1\" class=\"dataframe\">\n",
       "  <thead>\n",
       "    <tr style=\"text-align: right;\">\n",
       "      <th></th>\n",
       "      <th>provider</th>\n",
       "      <th>prompt</th>\n",
       "      <th>vars</th>\n",
       "      <th>response</th>\n",
       "      <th>success</th>\n",
       "      <th>score</th>\n",
       "      <th>namedScores</th>\n",
       "      <th>latencyMs</th>\n",
       "      <th>gradingResult</th>\n",
       "      <th>error</th>\n",
       "    </tr>\n",
       "  </thead>\n",
       "  <tbody>\n",
       "    <tr>\n",
       "      <th>0</th>\n",
       "      <td>{'id': 'exec:python /home/miltondp/projects/ot...</td>\n",
       "      <td>{'raw': 'You are a scientist with copy-editing...</td>\n",
       "      <td>{'test_description': 'Has no spelling errors',...</td>\n",
       "      <td>{'output': 'Genes collaborate with one another...</td>\n",
       "      <td>True</td>\n",
       "      <td>0.5</td>\n",
       "      <td>{}</td>\n",
       "      <td>1699</td>\n",
       "      <td>{'pass': True, 'score': 0.5, 'namedScores': {}...</td>\n",
       "      <td>NaN</td>\n",
       "    </tr>\n",
       "    <tr>\n",
       "      <th>1</th>\n",
       "      <td>{'id': 'exec:python /home/miltondp/projects/ot...</td>\n",
       "      <td>{'raw': 'You are a scientist with copy-editing...</td>\n",
       "      <td>{'test_description': 'Has no spelling errors',...</td>\n",
       "      <td>{'output': 'Genes collaborate with each other ...</td>\n",
       "      <td>True</td>\n",
       "      <td>0.5</td>\n",
       "      <td>{}</td>\n",
       "      <td>1724</td>\n",
       "      <td>{'pass': True, 'score': 0.5, 'namedScores': {}...</td>\n",
       "      <td>NaN</td>\n",
       "    </tr>\n",
       "    <tr>\n",
       "      <th>2</th>\n",
       "      <td>{'id': 'exec:python /home/miltondp/projects/ot...</td>\n",
       "      <td>{'raw': 'You are a scientist with copy-editing...</td>\n",
       "      <td>{'test_description': 'Has no spelling errors',...</td>\n",
       "      <td>{'output': 'In the realm of genetic studies, u...</td>\n",
       "      <td>True</td>\n",
       "      <td>0.5</td>\n",
       "      <td>{}</td>\n",
       "      <td>1759</td>\n",
       "      <td>{'pass': True, 'score': 0.5, 'namedScores': {}...</td>\n",
       "      <td>NaN</td>\n",
       "    </tr>\n",
       "    <tr>\n",
       "      <th>3</th>\n",
       "      <td>{'id': 'exec:python /home/miltondp/projects/ot...</td>\n",
       "      <td>{'raw': 'You are a scientist with copy-editing...</td>\n",
       "      <td>{'test_description': 'Has no spelling errors',...</td>\n",
       "      <td>{'output': 'Genes collaborate with each other ...</td>\n",
       "      <td>True</td>\n",
       "      <td>0.5</td>\n",
       "      <td>{}</td>\n",
       "      <td>1747</td>\n",
       "      <td>{'pass': True, 'score': 0.5, 'namedScores': {}...</td>\n",
       "      <td>NaN</td>\n",
       "    </tr>\n",
       "    <tr>\n",
       "      <th>4</th>\n",
       "      <td>{'id': 'exec:python /home/miltondp/projects/ot...</td>\n",
       "      <td>{'raw': 'You are a scientist with copy-editing...</td>\n",
       "      <td>{'test_description': 'Has no spelling errors',...</td>\n",
       "      <td>{'output': 'In the realm of genetic studies, u...</td>\n",
       "      <td>True</td>\n",
       "      <td>0.5</td>\n",
       "      <td>{}</td>\n",
       "      <td>1768</td>\n",
       "      <td>{'pass': True, 'score': 0.5, 'namedScores': {}...</td>\n",
       "      <td>NaN</td>\n",
       "    </tr>\n",
       "  </tbody>\n",
       "</table>\n",
       "</div>"
      ],
      "text/plain": [
       "                                            provider  \\\n",
       "0  {'id': 'exec:python /home/miltondp/projects/ot...   \n",
       "1  {'id': 'exec:python /home/miltondp/projects/ot...   \n",
       "2  {'id': 'exec:python /home/miltondp/projects/ot...   \n",
       "3  {'id': 'exec:python /home/miltondp/projects/ot...   \n",
       "4  {'id': 'exec:python /home/miltondp/projects/ot...   \n",
       "\n",
       "                                              prompt  \\\n",
       "0  {'raw': 'You are a scientist with copy-editing...   \n",
       "1  {'raw': 'You are a scientist with copy-editing...   \n",
       "2  {'raw': 'You are a scientist with copy-editing...   \n",
       "3  {'raw': 'You are a scientist with copy-editing...   \n",
       "4  {'raw': 'You are a scientist with copy-editing...   \n",
       "\n",
       "                                                vars  \\\n",
       "0  {'test_description': 'Has no spelling errors',...   \n",
       "1  {'test_description': 'Has no spelling errors',...   \n",
       "2  {'test_description': 'Has no spelling errors',...   \n",
       "3  {'test_description': 'Has no spelling errors',...   \n",
       "4  {'test_description': 'Has no spelling errors',...   \n",
       "\n",
       "                                            response  success  score  \\\n",
       "0  {'output': 'Genes collaborate with one another...     True    0.5   \n",
       "1  {'output': 'Genes collaborate with each other ...     True    0.5   \n",
       "2  {'output': 'In the realm of genetic studies, u...     True    0.5   \n",
       "3  {'output': 'Genes collaborate with each other ...     True    0.5   \n",
       "4  {'output': 'In the realm of genetic studies, u...     True    0.5   \n",
       "\n",
       "  namedScores  latencyMs                                      gradingResult  \\\n",
       "0          {}       1699  {'pass': True, 'score': 0.5, 'namedScores': {}...   \n",
       "1          {}       1724  {'pass': True, 'score': 0.5, 'namedScores': {}...   \n",
       "2          {}       1759  {'pass': True, 'score': 0.5, 'namedScores': {}...   \n",
       "3          {}       1747  {'pass': True, 'score': 0.5, 'namedScores': {}...   \n",
       "4          {}       1768  {'pass': True, 'score': 0.5, 'namedScores': {}...   \n",
       "\n",
       "  error  \n",
       "0   NaN  \n",
       "1   NaN  \n",
       "2   NaN  \n",
       "3   NaN  \n",
       "4   NaN  "
      ]
     },
     "execution_count": 9,
     "metadata": {},
     "output_type": "execute_result"
    }
   ],
   "source": [
    "r.head()"
   ]
  },
  {
   "cell_type": "code",
   "execution_count": 10,
   "id": "d040c698-decb-428b-b86a-bd2025c13430",
   "metadata": {},
   "outputs": [
    {
     "data": {
      "text/plain": [
       "provider         {'id': 'exec:python /home/miltondp/projects/ot...\n",
       "prompt           {'raw': 'You are a scientist with copy-editing...\n",
       "vars             {'test_description': 'Has no spelling errors',...\n",
       "response         {'output': 'Genes collaborate with one another...\n",
       "success                                                       True\n",
       "score                                                          0.5\n",
       "namedScores                                                     {}\n",
       "latencyMs                                                     1699\n",
       "gradingResult    {'pass': True, 'score': 0.5, 'namedScores': {}...\n",
       "error                                                          NaN\n",
       "Name: 0, dtype: object"
      ]
     },
     "execution_count": 10,
     "metadata": {},
     "output_type": "execute_result"
    }
   ],
   "source": [
    "r.loc[0]"
   ]
  },
  {
   "cell_type": "code",
   "execution_count": 11,
   "id": "8b505592-87b1-44ab-902d-43bd863a063c",
   "metadata": {},
   "outputs": [
    {
     "data": {
      "text/plain": [
       "{'id': 'exec:python /home/miltondp/projects/others/manubot/manubot-ai-editor-evals/src/llm.py  --model ollama=mixtral=8x22b-instruct-v0.1-q4_1'}"
      ]
     },
     "execution_count": 11,
     "metadata": {},
     "output_type": "execute_result"
    }
   ],
   "source": [
    "r.loc[0, \"provider\"]"
   ]
  },
  {
   "cell_type": "code",
   "execution_count": 12,
   "id": "2eb47551-c58c-4e17-989c-a21171e8272c",
   "metadata": {},
   "outputs": [
    {
     "data": {
      "text/plain": [
       "{'raw': \"You are a scientist with copy-editing skills who will help in improving the text of a manuscript with title 'Projecting genetic associations through gene expression patterns highlights disease etiology and drug mechanisms' and keywords 'genetic studies, functional genomics, gene co-expression, therapeutic targets, drug repurposing, clustering of complex traits.' Revise the following abstract of this manuscript.\\n\\nInput paragraph: Genes act in concierto with each other in specifico contexts to perform their functions. Determining how these genes influence complex traits requires a mechanistic understanding of expression regulation across different conditions. It has been shown that this insight is critical for developing new therapies. Transcriptome-wide association studies have helped uncover the role of individual genes in disease-relevant mechanisms. However, modern models of the architecture of complex traits predict that gene-gene interactions play a crucial role in disease origin and progression. Here we introduce PhenoPLIER, a computational approach that maps gene-trait associations and pharmacological perturbation data into a common latent representation for a joint analysis. This representation is based on modules of genes with similar expression patterns across the same conditions. We observe that diseases are significantl associated with gene modules expressed in relevant cell types, and our approach is accurate in predicting known drug-disease pairs and inferring mechanisms of action. Furthermore, using a CRISPR screen to analyze lipid regulation, we find that functionally important players lack associations but are prioritized in trait-associated modules by PhenoPLIER. By incorporating groups of co-expressed genes, PhenoPLIER can contextualize genetic associations and reveal potential targets missed by single-gene strategies.\\n\\nRevised paragraph:\",\n",
       " 'display': '/home/miltondp/projects/others/manubot/manubot-ai-editor-evals/abstract/prompts/baseline.txt'}"
      ]
     },
     "execution_count": 12,
     "metadata": {},
     "output_type": "execute_result"
    }
   ],
   "source": [
    "r.loc[0, \"prompt\"]"
   ]
  },
  {
   "cell_type": "code",
   "execution_count": 13,
   "id": "e832cc61-5b53-4178-aee1-806fede194c8",
   "metadata": {},
   "outputs": [
    {
     "data": {
      "text/plain": [
       "{'test_description': 'Has no spelling errors',\n",
       " 'title': 'Projecting genetic associations through gene expression patterns highlights disease etiology and drug mechanisms',\n",
       " 'keywords': 'genetic studies, functional genomics, gene co-expression, therapeutic targets, drug repurposing, clustering of complex traits',\n",
       " 'content': 'Genes act in concierto with each other in specifico contexts to perform their functions. Determining how these genes influence complex traits requires a mechanistic understanding of expression regulation across different conditions. It has been shown that this insight is critical for developing new therapies. Transcriptome-wide association studies have helped uncover the role of individual genes in disease-relevant mechanisms. However, modern models of the architecture of complex traits predict that gene-gene interactions play a crucial role in disease origin and progression. Here we introduce PhenoPLIER, a computational approach that maps gene-trait associations and pharmacological perturbation data into a common latent representation for a joint analysis. This representation is based on modules of genes with similar expression patterns across the same conditions. We observe that diseases are significantl associated with gene modules expressed in relevant cell types, and our approach is accurate in predicting known drug-disease pairs and inferring mechanisms of action. Furthermore, using a CRISPR screen to analyze lipid regulation, we find that functionally important players lack associations but are prioritized in trait-associated modules by PhenoPLIER. By incorporating groups of co-expressed genes, PhenoPLIER can contextualize genetic associations and reveal potential targets missed by single-gene strategies.'}"
      ]
     },
     "execution_count": 13,
     "metadata": {},
     "output_type": "execute_result"
    }
   ],
   "source": [
    "r.loc[0, \"vars\"]"
   ]
  },
  {
   "cell_type": "code",
   "execution_count": 14,
   "id": "84ab8f88-ce91-4102-8ac0-49efa920122f",
   "metadata": {},
   "outputs": [
    {
     "data": {
      "text/plain": [
       "{'output': 'Genes collaborate with one another in specific contexts to carry out their functions. Understanding how these genes influence complex traits necessitates a mechanistic understanding of expression regulation across various conditions, which is crucial for developing new therapies. Transcriptome-wide association studies have shed light on the role of individual genes in disease-relevant mechanisms. However, contemporary models of complex trait architecture suggest that gene-gene interactions significantly contribute to disease etiology and progression. In this study, we present PhenoPLIER, a computational method that integrates gene-trait associations and pharmacological perturbation data into a unified latent representation for joint analysis. This representation is based on modules of genes with similar expression patterns across the same conditions. We observe significant associations between diseases and gene modules expressed in relevant cell types, and our approach accurately predicts known drug-disease pairs and infers mechanisms of action. Furthermore, utilizing a CRISPR screen to analyze lipid regulation, we discover that functionally important players lack individual genetic associations but are prioritized within trait-associated modules by PhenoPLIER. By incorporating groups of co-expressed genes, PhenoPLIER contextualizes genetic associations and uncovers potential targets overlooked by single-gene strategies.'}"
      ]
     },
     "execution_count": 14,
     "metadata": {},
     "output_type": "execute_result"
    }
   ],
   "source": [
    "r.loc[0, \"response\"]"
   ]
  },
  {
   "cell_type": "code",
   "execution_count": 15,
   "id": "07a3e11f-f9ae-40e4-a8de-4fbbf7a53756",
   "metadata": {},
   "outputs": [
    {
     "data": {
      "text/plain": [
       "{'pass': True,\n",
       " 'score': 0.5,\n",
       " 'namedScores': {},\n",
       " 'reason': 'All assertions passed',\n",
       " 'tokensUsed': {'total': 0, 'prompt': 0, 'completion': 0},\n",
       " 'componentResults': [{'pass': True,\n",
       "   'score': 0.25,\n",
       "   'reason': 'Passed',\n",
       "   'assertion': {'value': 'Starts with capital letter', 'type': 'Formatting'}},\n",
       "  {'pass': True,\n",
       "   'score': 0.25,\n",
       "   'reason': 'Passed',\n",
       "   'assertion': {'value': 'Ends with a period', 'type': 'Formatting'}},\n",
       "  {'pass': True,\n",
       "   'score': 0.25,\n",
       "   'reason': 'Passed',\n",
       "   'assertion': {'value': 'Is a single paragraph', 'type': 'Formatting'}},\n",
       "  {'pass': True,\n",
       "   'score': 0.25,\n",
       "   'reason': 'Passed',\n",
       "   'assertion': {'value': \"Doesn't include manuscript title\",\n",
       "    'type': 'Formatting'}},\n",
       "  {'pass': True,\n",
       "   'score': 0.25,\n",
       "   'reason': 'Passed',\n",
       "   'assertion': {'value': \"Doesn't reference authors, keywords, abstract, etc\",\n",
       "    'type': 'Formatting'}},\n",
       "  {'pass': True,\n",
       "   'score': 0.25,\n",
       "   'reason': 'Passed',\n",
       "   'assertion': {'value': 'Has roughly the same length as input',\n",
       "    'type': 'Formatting'}},\n",
       "  {'pass': True,\n",
       "   'score': 2,\n",
       "   'reason': 'Passed',\n",
       "   'assertion': {'value': 'Has no spelling errors',\n",
       "    'type': 'Spelling/grammar'}}],\n",
       " 'assertion': None}"
      ]
     },
     "execution_count": 15,
     "metadata": {},
     "output_type": "execute_result"
    }
   ],
   "source": [
    "r.loc[0, \"gradingResult\"]"
   ]
  },
  {
   "cell_type": "code",
   "execution_count": null,
   "id": "e21d5122-da64-4120-8b9e-2952d5a1ea9f",
   "metadata": {},
   "outputs": [],
   "source": []
  }
 ],
 "metadata": {
  "jupytext": {
   "cell_metadata_filter": "all,-execution,-papermill,-trusted",
   "notebook_metadata_filter": "-jupytext.text_representation.jupytext_version"
  },
  "kernelspec": {
   "display_name": "Python 3 (ipykernel)",
   "language": "python",
   "name": "python3"
  },
  "language_info": {
   "codemirror_mode": {
    "name": "ipython",
    "version": 3
   },
   "file_extension": ".py",
   "mimetype": "text/x-python",
   "name": "python",
   "nbconvert_exporter": "python",
   "pygments_lexer": "ipython3",
   "version": "3.12.3"
  }
 },
 "nbformat": 4,
 "nbformat_minor": 5
}
